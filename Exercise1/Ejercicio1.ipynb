{
 "cells": [
  {
   "cell_type": "code",
   "execution_count": 1,
   "id": "0377e5cc-80bf-4f5d-a1d4-3503b0174b10",
   "metadata": {},
   "source": [
    "import numpy as np\n",
    "import pandas as pd\n",
    "import matplotlib.pyplot as plt\n",
    "from funciones import SOM, Oja\n",
    "from collections import defaultdict\n",
    "#from minisom import MiniSom # for comparison l42\n",
    "from sklearn.decomposition import PCA"
   ],
   "outputs": []
  },
  {
   "cell_type": "markdown",
   "id": "47a61f98-ac19-4516-a603-51249b7afe25",
   "metadata": {},
   "source": [
    "### Load and format data"
   ]
  },
  {
   "cell_type": "code",
   "execution_count": 2,
   "id": "f1c5b1ca-0920-4efa-b449-69d454532a24",
   "metadata": {},
   "source": [
    "# Load dataset with specified data types\n",
    "dtypes = {'Country': 'str', \n",
    "          'Area': 'int64', \n",
    "          'GDP': 'int64', \n",
    "          'Inflation': 'float64', \n",
    "          'Life.expect': 'float64', \n",
    "          'Military': 'float64', \n",
    "          'Pop.growth': 'float64', \n",
    "          'Unemployment': 'float64'}\n",
    "\n",
    "df = pd.read_csv('europe.csv', dtype=dtypes)\n",
    "\n",
    "# Separate country names since it's not numerical\n",
    "country_names = df['Country']\n",
    "df_numeric = df.drop('Country', axis=1)\n",
    "\n",
    "# Normalize numerical data\n",
    "df_numeric = (df_numeric - df_numeric.mean()) / df_numeric.std()"
   ],
   "outputs": []
  },
  {
   "cell_type": "markdown",
   "id": "4b2291a1-f1fb-43cc-8313-105d4e4a3687",
   "metadata": {},
   "source": [
    "# 1.1 Red de Kohonen"
   ]
  },
  {
   "cell_type": "markdown",
   "id": "2b1d408a-878c-4eec-932b-b2132351e148",
   "metadata": {},
   "source": [
    "### Self-Organizing Map (SOM) / Kohonen map"
   ]
  },
  {
   "cell_type": "code",
   "execution_count": 3,
   "id": "8bff494a-25b1-49b1-9c44-e881717d8673",
   "metadata": {},
   "source": [
    "# Define SOM parameters\n",
    "x = 5  # Width of map\n",
    "y = 5  # Height of map\n",
    "input_len = df_numeric.shape[1]  # Number of features in data\n",
    "sigma = 1.0 # Neighbourhood radius\n",
    "learning_rate = 0.5\n",
    "\n",
    "# Create SOM\n",
    "som = SOM(x, y, input_len, sigma, learning_rate) # create SOM\n",
    "som.random_weights_init(df_numeric.values) # initial random weights\n",
    "\n",
    "# Train SOM\n",
    "iterations = 10000\n",
    "som.train_random(df_numeric.values, iterations)"
   ],
   "outputs": []
  },
  {
   "cell_type": "markdown",
   "id": "3353bf25-2c82-497e-aa8c-cdfc0067da92",
   "metadata": {},
   "source": [
    "### Unified Distance Matrix  (U-Matrix)"
   ]
  },
  {
   "cell_type": "code",
   "execution_count": 4,
   "id": "b14281ec-dae9-441b-9abb-4b352b3bc881",
   "metadata": {},
   "source": [
    "# Plot U-Matrix of the SOM\n",
    "plt.pcolor(som.distance_map().T, cmap='coolwarm') # https://matplotlib.org/stable/gallery/color/colormap_reference.html\n",
    "plt.colorbar()\n",
    "plt.title('U-Matrix: Average Distances Between Neurons')\n",
    "plt.show()"
   ],
   "outputs": []
  },
  {
   "cell_type": "markdown",
   "id": "6f60d39a-0268-4f46-9d94-e662aeaf6f00",
   "metadata": {},
   "source": [
    "### Winning neuron. Elements assigned to each neuron"
   ]
  },
  {
   "cell_type": "code",
   "execution_count": 5,
   "id": "15adf607-e236-49ce-9631-dd04e5f52267",
   "metadata": {},
   "source": [
    "# Calculate element counts for each neuron\n",
    "neuron_counts = defaultdict(int)\n",
    "winning_countries = defaultdict(list)\n",
    "\n",
    "for i, sample in enumerate(df_numeric.values):\n",
    "    winning_neuron = som.winner(sample)\n",
    "    neuron_counts[winning_neuron] += 1\n",
    "    winning_countries[winning_neuron].append(country_names.iloc[i])\n",
    "\n",
    "# Reshape counts into grid, handling potential dead neurons\n",
    "counts_grid = np.zeros((x, y))  # Initialize to zeros\n",
    "for coordinates, count in neuron_counts.items():\n",
    "    x_coord, y_coord = coordinates\n",
    "    counts_grid[y_coord][x_coord] = count\n",
    "\n",
    "# Initialize plot\n",
    "fig, ax = plt.subplots()\n",
    "\n",
    "# Plot the U-Matrix/SOM grid (to put count on)\n",
    "plt.pcolor(som.distance_map().T, cmap='coolwarm', alpha=0.5)\n",
    "\n",
    "# Overlay count labels on neurons\n",
    "for x in range(som.get_weights().shape[0]):\n",
    "    for y in range(som.get_weights().shape[1]):\n",
    "        ax.text(x + 0.5, y + 0.5, str(counts_grid[y][x]),\n",
    "                ha='center', va='center', size='x-large')\n",
    "\n",
    "ax.set_title('Element-Count per Neuron')\n",
    "plt.colorbar()\n",
    "plt.show()"
   ],
   "outputs": []
  },
  {
   "cell_type": "markdown",
   "id": "d9e35dab-efb6-47bc-a889-e607d00ae6fb",
   "metadata": {},
   "source": [
    "### Categorization of countries"
   ]
  },
  {
   "cell_type": "code",
   "execution_count": 6,
   "id": "b8e6759b-791a-42e7-8363-c150acdb7ae2",
   "metadata": {},
   "source": [
    "# Initialize plot\n",
    "fig, ax = plt.subplots()\n",
    "\n",
    "# Plot the U-Matrix/SOM grid (to put countries on)\n",
    "plt.pcolor(som.distance_map().T, cmap='coolwarm', alpha=0.5)\n",
    "\n",
    "# Overlay countries on each neuron\n",
    "for x in range(som.get_weights().shape[0]):\n",
    "    for y in range(som.get_weights().shape[1]):\n",
    "        countries = winning_countries.get((x, y), [])\n",
    "        if countries:\n",
    "            country_text = \"\\n\".join(countries)  # Join with newlines\n",
    "            ax.text(x + 0.5, y + 0.5, country_text, ha='center', va='center', size='small', wrap=True)\n",
    "ax.set_title('Country distribution')\n",
    "plt.colorbar()\n",
    "plt.show()"
   ],
   "outputs": []
  },
  {
   "cell_type": "markdown",
   "id": "2dc9013b-25ea-4b38-923c-eede9b2892f1",
   "metadata": {},
   "source": [
    "# Ejercicio 1.2 - Modelo de Oja"
   ]
  },
  {
   "cell_type": "markdown",
   "id": "a892f70b-eb5b-498c-9041-cc8135ebb2e2",
   "metadata": {},
   "source": [
    "### Modelo de Oja"
   ]
  },
  {
   "cell_type": "code",
   "execution_count": 7,
   "id": "fef450b5-18f5-4e6c-80e5-5f8beb196bb4",
   "metadata": {},
   "source": [
    "# Oja's Rule\n",
    "oja_input_len = df_numeric.shape[1]\n",
    "oja_learning_rate = 0.01\n",
    "iterations = 10000\n",
    "\n",
    "oja = Oja(oja_input_len, oja_learning_rate)\n",
    "oja.train(df_numeric.values, iterations)\n",
    "\n",
    "# Get the first principal component from Oja's rule\n",
    "oja_weights = oja.get_weights()"
   ],
   "outputs": []
  },
  {
   "cell_type": "markdown",
   "id": "a950edb2-b416-4464-9187-4474d48900e0",
   "metadata": {},
   "source": [
    "### PC1 coefficients of attributes - print"
   ]
  },
  {
   "cell_type": "code",
   "execution_count": 8,
   "id": "24ff4e1e-cf64-4078-ab22-b6f293c24789",
   "metadata": {},
   "source": [
    "# Create a dictionary to associate features with coefficients\n",
    "feature_names = df_numeric.columns\n",
    "feature_coef_dict = dict(zip(feature_names, oja_weights))\n",
    "\n",
    "# Sort the dictionary by coefficient values high to low\n",
    "sorted_features = sorted(feature_coef_dict.items(), key=lambda item: item[1], reverse=True)\n",
    "\n",
    "# Print PC1 coefficients along with their respective features in sorted order\n",
    "print(\"\\nPC1 coefficients of attributes:\")\n",
    "for feature, coefficient in sorted_features:\n",
    "    print(f\"{feature}: {coefficient:.2f}\")"
   ],
   "outputs": []
  },
  {
   "cell_type": "markdown",
   "id": "70e8af85-d9a1-456d-a2c4-29ccf221b769",
   "metadata": {},
   "source": [
    "### PC1 score of countries - print"
   ]
  },
  {
   "cell_type": "code",
   "execution_count": 9,
   "id": "59e9c4ec-130e-41bd-b57d-85fa049b09c3",
   "metadata": {},
   "source": [
    "# Project data onto the first principal component\n",
    "pc1_scores = df_numeric.dot(oja_weights)\n",
    "\n",
    "# Create a DataFrame to associate country names with PC1 scores\n",
    "result_df = pd.DataFrame({'Country': country_names, 'PC1': pc1_scores})\n",
    "result_df_sorted = result_df.sort_values(by='PC1', ascending=False) # sort results high to low PC1 score\n",
    "\n",
    "# Print unsorted country PC1 score\n",
    "#print(\"\\nPC1 score of countries:\")\n",
    "#print(result_df)\n",
    "\n",
    "# Print sorted results of PC1 score\n",
    "print(\"\\nPC1 value of countries:\")\n",
    "for index, row in result_df_sorted.iterrows():\n",
    "    print(f\"{row['Country']}: {row['PC1']:.2f}\")"
   ],
   "outputs": []
  },
  {
   "cell_type": "markdown",
   "id": "97a77a8d-8167-4600-b281-c3bbd8cc6f26",
   "metadata": {},
   "source": [
    "### PCA with package to compare results"
   ]
  },
  {
   "cell_type": "code",
   "execution_count": 10,
   "id": "968ce4db-763e-4733-9e85-d463c0c5ccb0",
   "metadata": {},
   "source": [
    "# Perform PCA using scikit-learn\n",
    "pca = PCA(n_components=1)\n",
    "pca.fit(df_numeric)\n",
    "\n",
    "# Get the first principal component\n",
    "first_pc = pca.components_[0]\n",
    "\n",
    "# Create a dictionary to associate features with coefficients\n",
    "feature_coef_dict = dict(zip(df_numeric.columns, first_pc))\n",
    "\n",
    "# Sort the dictionary by coefficient values in descending order\n",
    "sorted_features = sorted(feature_coef_dict.items(), key=lambda item: item[1], reverse=True)\n",
    "\n",
    "# Print PC1 coefficients along with their respective features in sorted order\n",
    "print(\"\\nPC1 coefficients of attributes (with library):\")\n",
    "for feature, coefficient in sorted_features:\n",
    "    print(f\"{feature}: {coefficient:.2f}\")"
   ],
   "outputs": []
  },
  {
   "cell_type": "code",
   "execution_count": 11,
   "id": "129ecad2-ad84-4b20-8831-51c0da29ee0f",
   "metadata": {},
   "source": [
    "# Project the data onto the principal component\n",
    "pc1_scores = pca.transform(df_numeric)\n",
    "\n",
    "# Combine countries and their PC1 scores into a DataFrame\n",
    "result_df = pd.DataFrame({'Country': country_names, 'PC1': pc1_scores.squeeze()})  # squeeze() converts to 1D array\n",
    "\n",
    "# Sort by PC1 in descending order\n",
    "result_df_sorted = result_df.sort_values(by='PC1', ascending=False)\n",
    "\n",
    "# Print the sorted PC1 scores for each country\n",
    "print(\"\\nPC1 value of countries (with library):\")\n",
    "for index, row in result_df_sorted.iterrows():\n",
    "    print(f\"{row['Country']}: {row['PC1']:.2f}\")"
   ],
   "outputs": []
  }
 ],
 "metadata": {
  "kernelspec": {
   "display_name": "Python 3 (ipykernel)",
   "language": "python",
   "name": "python3"
  },
  "language_info": {
   "codemirror_mode": {
    "name": "ipython",
    "version": 3
   },
   "file_extension": ".py",
   "mimetype": "text/x-python",
   "name": "python",
   "nbconvert_exporter": "python",
   "pygments_lexer": "ipython3",
   "version": "3.10.12"
  }
 },
 "nbformat": 4,
 "nbformat_minor": 5
}
